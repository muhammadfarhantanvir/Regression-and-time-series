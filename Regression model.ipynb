{
 "cells": [
  {
   "cell_type": "markdown",
   "id": "699228c6",
   "metadata": {},
   "source": [
    "<h3>Importing libraries</h3>"
   ]
  },
  {
   "cell_type": "code",
   "execution_count": 19,
   "id": "07e871e7",
   "metadata": {
    "ExecuteTime": {
     "end_time": "2023-07-26T09:44:12.972998Z",
     "start_time": "2023-07-26T09:44:12.960852Z"
    }
   },
   "outputs": [],
   "source": [
    "import numpy as np\n",
    "import pandas as pd\n",
    "import statsmodels.api as sm\n",
    "import matplotlib.pyplot as plt\n",
    "%matplotlib inline\n",
    "import seaborn as sns\n",
    "import statsmodels.api as sm\n",
    "import itertools\n",
    "from sklearn.model_selection import train_test_split\n",
    "from sklearn.linear_model import LinearRegression\n",
    "from sklearn.ensemble import RandomForestRegressor, GradientBoostingRegressor\n",
    "from sklearn.metrics import mean_absolute_error,mean_squared_error, r2_score\n",
    "from tpot import TPOTRegressor\n",
    "from sklearn.svm import LinearSVR\n",
    "from sklearn import metrics\n",
    "from sklearn.preprocessing import StandardScaler, OneHotEncoder\n",
    "from sklearn.compose import ColumnTransformer\n",
    "from sklearn.pipeline import Pipeline\n",
    "from sklearn.impute import SimpleImputer\n",
    "import xgboost as xgb\n",
    "from lazypredict.Supervised import LazyRegressor"
   ]
  },
  {
   "cell_type": "markdown",
   "id": "9d58b00b",
   "metadata": {},
   "source": [
    "<h3>Read dataset</h3>"
   ]
  },
  {
   "cell_type": "code",
   "execution_count": 2,
   "id": "e797e272",
   "metadata": {
    "ExecuteTime": {
     "end_time": "2023-07-26T08:49:07.734047Z",
     "start_time": "2023-07-26T08:49:07.692303Z"
    }
   },
   "outputs": [
    {
     "data": {
      "text/html": [
       "<div>\n",
       "<style scoped>\n",
       "    .dataframe tbody tr th:only-of-type {\n",
       "        vertical-align: middle;\n",
       "    }\n",
       "\n",
       "    .dataframe tbody tr th {\n",
       "        vertical-align: top;\n",
       "    }\n",
       "\n",
       "    .dataframe thead th {\n",
       "        text-align: right;\n",
       "    }\n",
       "</style>\n",
       "<table border=\"1\" class=\"dataframe\">\n",
       "  <thead>\n",
       "    <tr style=\"text-align: right;\">\n",
       "      <th></th>\n",
       "      <th>date</th>\n",
       "      <th>product_category</th>\n",
       "      <th>reseller_name</th>\n",
       "      <th>reseller</th>\n",
       "      <th>sales</th>\n",
       "      <th>incident_start_date</th>\n",
       "      <th>incident_end_date</th>\n",
       "      <th>is_incident</th>\n",
       "      <th>incident_type</th>\n",
       "      <th>incident_hours</th>\n",
       "      <th>...</th>\n",
       "      <th>Month_3</th>\n",
       "      <th>Month_4</th>\n",
       "      <th>Month_5</th>\n",
       "      <th>Month_6</th>\n",
       "      <th>Month_7</th>\n",
       "      <th>Month_8</th>\n",
       "      <th>Month_9</th>\n",
       "      <th>Month_10</th>\n",
       "      <th>Month_11</th>\n",
       "      <th>Month_12</th>\n",
       "    </tr>\n",
       "  </thead>\n",
       "  <tbody>\n",
       "    <tr>\n",
       "      <th>0</th>\n",
       "      <td>2022-01-01</td>\n",
       "      <td>PO</td>\n",
       "      <td>CR_LI_HOL/Zalisz K</td>\n",
       "      <td>MSD</td>\n",
       "      <td>946.0</td>\n",
       "      <td>NaN</td>\n",
       "      <td>NaN</td>\n",
       "      <td>0</td>\n",
       "      <td>NaN</td>\n",
       "      <td>NaN</td>\n",
       "      <td>...</td>\n",
       "      <td>0</td>\n",
       "      <td>0</td>\n",
       "      <td>0</td>\n",
       "      <td>0</td>\n",
       "      <td>0</td>\n",
       "      <td>0</td>\n",
       "      <td>0</td>\n",
       "      <td>0</td>\n",
       "      <td>0</td>\n",
       "      <td>0</td>\n",
       "    </tr>\n",
       "    <tr>\n",
       "      <th>1</th>\n",
       "      <td>2022-01-04</td>\n",
       "      <td>PO</td>\n",
       "      <td>CR_LI_HOL/Zalisz K</td>\n",
       "      <td>MSD</td>\n",
       "      <td>624.0</td>\n",
       "      <td>NaN</td>\n",
       "      <td>NaN</td>\n",
       "      <td>0</td>\n",
       "      <td>NaN</td>\n",
       "      <td>NaN</td>\n",
       "      <td>...</td>\n",
       "      <td>0</td>\n",
       "      <td>0</td>\n",
       "      <td>0</td>\n",
       "      <td>0</td>\n",
       "      <td>0</td>\n",
       "      <td>0</td>\n",
       "      <td>0</td>\n",
       "      <td>0</td>\n",
       "      <td>0</td>\n",
       "      <td>0</td>\n",
       "    </tr>\n",
       "    <tr>\n",
       "      <th>2</th>\n",
       "      <td>2022-01-07</td>\n",
       "      <td>PO</td>\n",
       "      <td>CR_LI_HOL/Zalisz K</td>\n",
       "      <td>MSD</td>\n",
       "      <td>890.0</td>\n",
       "      <td>NaN</td>\n",
       "      <td>NaN</td>\n",
       "      <td>0</td>\n",
       "      <td>NaN</td>\n",
       "      <td>NaN</td>\n",
       "      <td>...</td>\n",
       "      <td>0</td>\n",
       "      <td>0</td>\n",
       "      <td>0</td>\n",
       "      <td>0</td>\n",
       "      <td>0</td>\n",
       "      <td>0</td>\n",
       "      <td>0</td>\n",
       "      <td>0</td>\n",
       "      <td>0</td>\n",
       "      <td>0</td>\n",
       "    </tr>\n",
       "    <tr>\n",
       "      <th>3</th>\n",
       "      <td>2022-02-15</td>\n",
       "      <td>PO</td>\n",
       "      <td>CR_LI_HOL/Zalisz K</td>\n",
       "      <td>MSD</td>\n",
       "      <td>1140.0</td>\n",
       "      <td>NaN</td>\n",
       "      <td>NaN</td>\n",
       "      <td>0</td>\n",
       "      <td>NaN</td>\n",
       "      <td>NaN</td>\n",
       "      <td>...</td>\n",
       "      <td>0</td>\n",
       "      <td>0</td>\n",
       "      <td>0</td>\n",
       "      <td>0</td>\n",
       "      <td>0</td>\n",
       "      <td>0</td>\n",
       "      <td>0</td>\n",
       "      <td>0</td>\n",
       "      <td>0</td>\n",
       "      <td>0</td>\n",
       "    </tr>\n",
       "    <tr>\n",
       "      <th>4</th>\n",
       "      <td>2022-02-19</td>\n",
       "      <td>PO</td>\n",
       "      <td>CR_LI_HOL/Zalisz K</td>\n",
       "      <td>MSD</td>\n",
       "      <td>1283.0</td>\n",
       "      <td>NaN</td>\n",
       "      <td>NaN</td>\n",
       "      <td>0</td>\n",
       "      <td>NaN</td>\n",
       "      <td>NaN</td>\n",
       "      <td>...</td>\n",
       "      <td>0</td>\n",
       "      <td>0</td>\n",
       "      <td>0</td>\n",
       "      <td>0</td>\n",
       "      <td>0</td>\n",
       "      <td>0</td>\n",
       "      <td>0</td>\n",
       "      <td>0</td>\n",
       "      <td>0</td>\n",
       "      <td>0</td>\n",
       "    </tr>\n",
       "    <tr>\n",
       "      <th>5</th>\n",
       "      <td>2022-02-22</td>\n",
       "      <td>PO</td>\n",
       "      <td>CR_LI_HOL/Zalisz K</td>\n",
       "      <td>MSD</td>\n",
       "      <td>903.0</td>\n",
       "      <td>NaN</td>\n",
       "      <td>NaN</td>\n",
       "      <td>0</td>\n",
       "      <td>NaN</td>\n",
       "      <td>NaN</td>\n",
       "      <td>...</td>\n",
       "      <td>0</td>\n",
       "      <td>0</td>\n",
       "      <td>0</td>\n",
       "      <td>0</td>\n",
       "      <td>0</td>\n",
       "      <td>0</td>\n",
       "      <td>0</td>\n",
       "      <td>0</td>\n",
       "      <td>0</td>\n",
       "      <td>0</td>\n",
       "    </tr>\n",
       "    <tr>\n",
       "      <th>6</th>\n",
       "      <td>2022-02-26</td>\n",
       "      <td>PO</td>\n",
       "      <td>CR_LI_HOL/Zalisz K</td>\n",
       "      <td>MSD</td>\n",
       "      <td>1340.0</td>\n",
       "      <td>NaN</td>\n",
       "      <td>NaN</td>\n",
       "      <td>0</td>\n",
       "      <td>NaN</td>\n",
       "      <td>NaN</td>\n",
       "      <td>...</td>\n",
       "      <td>0</td>\n",
       "      <td>0</td>\n",
       "      <td>0</td>\n",
       "      <td>0</td>\n",
       "      <td>0</td>\n",
       "      <td>0</td>\n",
       "      <td>0</td>\n",
       "      <td>0</td>\n",
       "      <td>0</td>\n",
       "      <td>0</td>\n",
       "    </tr>\n",
       "    <tr>\n",
       "      <th>7</th>\n",
       "      <td>2022-02-28</td>\n",
       "      <td>PO</td>\n",
       "      <td>CR_LI_HOL/Zalisz K</td>\n",
       "      <td>MSD</td>\n",
       "      <td>2002.0</td>\n",
       "      <td>NaN</td>\n",
       "      <td>NaN</td>\n",
       "      <td>0</td>\n",
       "      <td>NaN</td>\n",
       "      <td>NaN</td>\n",
       "      <td>...</td>\n",
       "      <td>0</td>\n",
       "      <td>0</td>\n",
       "      <td>0</td>\n",
       "      <td>0</td>\n",
       "      <td>0</td>\n",
       "      <td>0</td>\n",
       "      <td>0</td>\n",
       "      <td>0</td>\n",
       "      <td>0</td>\n",
       "      <td>0</td>\n",
       "    </tr>\n",
       "    <tr>\n",
       "      <th>8</th>\n",
       "      <td>2022-03-02</td>\n",
       "      <td>PO</td>\n",
       "      <td>CR_LI_HOL/Zalisz K</td>\n",
       "      <td>MSD</td>\n",
       "      <td>601.0</td>\n",
       "      <td>NaN</td>\n",
       "      <td>NaN</td>\n",
       "      <td>0</td>\n",
       "      <td>NaN</td>\n",
       "      <td>NaN</td>\n",
       "      <td>...</td>\n",
       "      <td>1</td>\n",
       "      <td>0</td>\n",
       "      <td>0</td>\n",
       "      <td>0</td>\n",
       "      <td>0</td>\n",
       "      <td>0</td>\n",
       "      <td>0</td>\n",
       "      <td>0</td>\n",
       "      <td>0</td>\n",
       "      <td>0</td>\n",
       "    </tr>\n",
       "    <tr>\n",
       "      <th>9</th>\n",
       "      <td>2022-03-05</td>\n",
       "      <td>PO</td>\n",
       "      <td>CR_LI_HOL/Zalisz K</td>\n",
       "      <td>MSD</td>\n",
       "      <td>1195.0</td>\n",
       "      <td>NaN</td>\n",
       "      <td>NaN</td>\n",
       "      <td>0</td>\n",
       "      <td>NaN</td>\n",
       "      <td>NaN</td>\n",
       "      <td>...</td>\n",
       "      <td>1</td>\n",
       "      <td>0</td>\n",
       "      <td>0</td>\n",
       "      <td>0</td>\n",
       "      <td>0</td>\n",
       "      <td>0</td>\n",
       "      <td>0</td>\n",
       "      <td>0</td>\n",
       "      <td>0</td>\n",
       "      <td>0</td>\n",
       "    </tr>\n",
       "  </tbody>\n",
       "</table>\n",
       "<p>10 rows × 34 columns</p>\n",
       "</div>"
      ],
      "text/plain": [
       "         date product_category       reseller_name reseller   sales  \\\n",
       "0  2022-01-01               PO  CR_LI_HOL/Zalisz K      MSD   946.0   \n",
       "1  2022-01-04               PO  CR_LI_HOL/Zalisz K      MSD   624.0   \n",
       "2  2022-01-07               PO  CR_LI_HOL/Zalisz K      MSD   890.0   \n",
       "3  2022-02-15               PO  CR_LI_HOL/Zalisz K      MSD  1140.0   \n",
       "4  2022-02-19               PO  CR_LI_HOL/Zalisz K      MSD  1283.0   \n",
       "5  2022-02-22               PO  CR_LI_HOL/Zalisz K      MSD   903.0   \n",
       "6  2022-02-26               PO  CR_LI_HOL/Zalisz K      MSD  1340.0   \n",
       "7  2022-02-28               PO  CR_LI_HOL/Zalisz K      MSD  2002.0   \n",
       "8  2022-03-02               PO  CR_LI_HOL/Zalisz K      MSD   601.0   \n",
       "9  2022-03-05               PO  CR_LI_HOL/Zalisz K      MSD  1195.0   \n",
       "\n",
       "  incident_start_date incident_end_date  is_incident incident_type  \\\n",
       "0                 NaN               NaN            0           NaN   \n",
       "1                 NaN               NaN            0           NaN   \n",
       "2                 NaN               NaN            0           NaN   \n",
       "3                 NaN               NaN            0           NaN   \n",
       "4                 NaN               NaN            0           NaN   \n",
       "5                 NaN               NaN            0           NaN   \n",
       "6                 NaN               NaN            0           NaN   \n",
       "7                 NaN               NaN            0           NaN   \n",
       "8                 NaN               NaN            0           NaN   \n",
       "9                 NaN               NaN            0           NaN   \n",
       "\n",
       "   incident_hours  ...  Month_3  Month_4 Month_5 Month_6 Month_7  Month_8  \\\n",
       "0             NaN  ...        0        0       0       0       0        0   \n",
       "1             NaN  ...        0        0       0       0       0        0   \n",
       "2             NaN  ...        0        0       0       0       0        0   \n",
       "3             NaN  ...        0        0       0       0       0        0   \n",
       "4             NaN  ...        0        0       0       0       0        0   \n",
       "5             NaN  ...        0        0       0       0       0        0   \n",
       "6             NaN  ...        0        0       0       0       0        0   \n",
       "7             NaN  ...        0        0       0       0       0        0   \n",
       "8             NaN  ...        1        0       0       0       0        0   \n",
       "9             NaN  ...        1        0       0       0       0        0   \n",
       "\n",
       "   Month_9  Month_10  Month_11  Month_12  \n",
       "0        0         0         0         0  \n",
       "1        0         0         0         0  \n",
       "2        0         0         0         0  \n",
       "3        0         0         0         0  \n",
       "4        0         0         0         0  \n",
       "5        0         0         0         0  \n",
       "6        0         0         0         0  \n",
       "7        0         0         0         0  \n",
       "8        0         0         0         0  \n",
       "9        0         0         0         0  \n",
       "\n",
       "[10 rows x 34 columns]"
      ]
     },
     "execution_count": 2,
     "metadata": {},
     "output_type": "execute_result"
    }
   ],
   "source": [
    "data = pd.read_csv(\"PO_MSD.csv\")\n",
    "data.head(10)"
   ]
  },
  {
   "cell_type": "code",
   "execution_count": 3,
   "id": "92e9045a",
   "metadata": {
    "ExecuteTime": {
     "end_time": "2023-07-26T08:49:20.982430Z",
     "start_time": "2023-07-26T08:49:20.975233Z"
    }
   },
   "outputs": [
    {
     "data": {
      "text/plain": [
       "Index(['date', 'product_category', 'reseller_name', 'reseller', 'sales',\n",
       "       'incident_start_date', 'incident_end_date', 'is_incident',\n",
       "       'incident_type', 'incident_hours', 'incident_days', 'is_holiday',\n",
       "       'holiday', 'Monat', 'Wochentag', 'Month_k', 'Holiday_1', 'Incident_1',\n",
       "       'Weekdays_Monday', 'Weekdays_Saturday', 'Weekdays_Thursday',\n",
       "       'Weekdays_Tuesday', 'Weekdays_Wednesday', 'Month_2', 'Month_3',\n",
       "       'Month_4', 'Month_5', 'Month_6', 'Month_7', 'Month_8', 'Month_9',\n",
       "       'Month_10', 'Month_11', 'Month_12'],\n",
       "      dtype='object')"
      ]
     },
     "execution_count": 3,
     "metadata": {},
     "output_type": "execute_result"
    }
   ],
   "source": [
    "data.columns"
   ]
  },
  {
   "cell_type": "code",
   "execution_count": 7,
   "id": "2fed6f15",
   "metadata": {
    "ExecuteTime": {
     "end_time": "2023-07-26T08:54:25.503210Z",
     "start_time": "2023-07-26T08:54:25.488176Z"
    }
   },
   "outputs": [],
   "source": [
    "X = data[['Holiday_1', 'Incident_1', \n",
    "            'Weekdays_Monday', 'Weekdays_Saturday', 'Weekdays_Thursday', 'Weekdays_Tuesday', 'Weekdays_Wednesday',\n",
    "            'Month_2', 'Month_3', 'Month_4', 'Month_5', 'Month_6', 'Month_7', 'Month_8', 'Month_9', 'Month_10', 'Month_11', 'Month_12']]\n",
    "\n",
    "y = data['sales']"
   ]
  },
  {
   "cell_type": "markdown",
   "id": "227f0a49",
   "metadata": {},
   "source": [
    "<h3>Using xgboost regressor</h3>"
   ]
  },
  {
   "cell_type": "code",
   "execution_count": 8,
   "id": "bcb44a02",
   "metadata": {
    "ExecuteTime": {
     "end_time": "2023-07-26T08:54:28.697987Z",
     "start_time": "2023-07-26T08:54:28.606971Z"
    }
   },
   "outputs": [
    {
     "data": {
      "text/html": [
       "<style>#sk-container-id-1 {color: black;background-color: white;}#sk-container-id-1 pre{padding: 0;}#sk-container-id-1 div.sk-toggleable {background-color: white;}#sk-container-id-1 label.sk-toggleable__label {cursor: pointer;display: block;width: 100%;margin-bottom: 0;padding: 0.3em;box-sizing: border-box;text-align: center;}#sk-container-id-1 label.sk-toggleable__label-arrow:before {content: \"▸\";float: left;margin-right: 0.25em;color: #696969;}#sk-container-id-1 label.sk-toggleable__label-arrow:hover:before {color: black;}#sk-container-id-1 div.sk-estimator:hover label.sk-toggleable__label-arrow:before {color: black;}#sk-container-id-1 div.sk-toggleable__content {max-height: 0;max-width: 0;overflow: hidden;text-align: left;background-color: #f0f8ff;}#sk-container-id-1 div.sk-toggleable__content pre {margin: 0.2em;color: black;border-radius: 0.25em;background-color: #f0f8ff;}#sk-container-id-1 input.sk-toggleable__control:checked~div.sk-toggleable__content {max-height: 200px;max-width: 100%;overflow: auto;}#sk-container-id-1 input.sk-toggleable__control:checked~label.sk-toggleable__label-arrow:before {content: \"▾\";}#sk-container-id-1 div.sk-estimator input.sk-toggleable__control:checked~label.sk-toggleable__label {background-color: #d4ebff;}#sk-container-id-1 div.sk-label input.sk-toggleable__control:checked~label.sk-toggleable__label {background-color: #d4ebff;}#sk-container-id-1 input.sk-hidden--visually {border: 0;clip: rect(1px 1px 1px 1px);clip: rect(1px, 1px, 1px, 1px);height: 1px;margin: -1px;overflow: hidden;padding: 0;position: absolute;width: 1px;}#sk-container-id-1 div.sk-estimator {font-family: monospace;background-color: #f0f8ff;border: 1px dotted black;border-radius: 0.25em;box-sizing: border-box;margin-bottom: 0.5em;}#sk-container-id-1 div.sk-estimator:hover {background-color: #d4ebff;}#sk-container-id-1 div.sk-parallel-item::after {content: \"\";width: 100%;border-bottom: 1px solid gray;flex-grow: 1;}#sk-container-id-1 div.sk-label:hover label.sk-toggleable__label {background-color: #d4ebff;}#sk-container-id-1 div.sk-serial::before {content: \"\";position: absolute;border-left: 1px solid gray;box-sizing: border-box;top: 0;bottom: 0;left: 50%;z-index: 0;}#sk-container-id-1 div.sk-serial {display: flex;flex-direction: column;align-items: center;background-color: white;padding-right: 0.2em;padding-left: 0.2em;position: relative;}#sk-container-id-1 div.sk-item {position: relative;z-index: 1;}#sk-container-id-1 div.sk-parallel {display: flex;align-items: stretch;justify-content: center;background-color: white;position: relative;}#sk-container-id-1 div.sk-item::before, #sk-container-id-1 div.sk-parallel-item::before {content: \"\";position: absolute;border-left: 1px solid gray;box-sizing: border-box;top: 0;bottom: 0;left: 50%;z-index: -1;}#sk-container-id-1 div.sk-parallel-item {display: flex;flex-direction: column;z-index: 1;position: relative;background-color: white;}#sk-container-id-1 div.sk-parallel-item:first-child::after {align-self: flex-end;width: 50%;}#sk-container-id-1 div.sk-parallel-item:last-child::after {align-self: flex-start;width: 50%;}#sk-container-id-1 div.sk-parallel-item:only-child::after {width: 0;}#sk-container-id-1 div.sk-dashed-wrapped {border: 1px dashed gray;margin: 0 0.4em 0.5em 0.4em;box-sizing: border-box;padding-bottom: 0.4em;background-color: white;}#sk-container-id-1 div.sk-label label {font-family: monospace;font-weight: bold;display: inline-block;line-height: 1.2em;}#sk-container-id-1 div.sk-label-container {text-align: center;}#sk-container-id-1 div.sk-container {/* jupyter's `normalize.less` sets `[hidden] { display: none; }` but bootstrap.min.css set `[hidden] { display: none !important; }` so we also need the `!important` here to be able to override the default hidden behavior on the sphinx rendered scikit-learn.org. See: https://github.com/scikit-learn/scikit-learn/issues/21755 */display: inline-block !important;position: relative;}#sk-container-id-1 div.sk-text-repr-fallback {display: none;}</style><div id=\"sk-container-id-1\" class=\"sk-top-container\"><div class=\"sk-text-repr-fallback\"><pre>XGBRegressor(base_score=None, booster=None, callbacks=None,\n",
       "             colsample_bylevel=None, colsample_bynode=None,\n",
       "             colsample_bytree=None, early_stopping_rounds=None,\n",
       "             enable_categorical=False, eval_metric=None, feature_types=None,\n",
       "             gamma=None, gpu_id=None, grow_policy=None, importance_type=None,\n",
       "             interaction_constraints=None, learning_rate=None, max_bin=None,\n",
       "             max_cat_threshold=None, max_cat_to_onehot=None,\n",
       "             max_delta_step=None, max_depth=None, max_leaves=None,\n",
       "             min_child_weight=None, missing=nan, monotone_constraints=None,\n",
       "             n_estimators=100, n_jobs=None, num_parallel_tree=None,\n",
       "             predictor=None, random_state=None, ...)</pre><b>In a Jupyter environment, please rerun this cell to show the HTML representation or trust the notebook. <br />On GitHub, the HTML representation is unable to render, please try loading this page with nbviewer.org.</b></div><div class=\"sk-container\" hidden><div class=\"sk-item\"><div class=\"sk-estimator sk-toggleable\"><input class=\"sk-toggleable__control sk-hidden--visually\" id=\"sk-estimator-id-1\" type=\"checkbox\" checked><label for=\"sk-estimator-id-1\" class=\"sk-toggleable__label sk-toggleable__label-arrow\">XGBRegressor</label><div class=\"sk-toggleable__content\"><pre>XGBRegressor(base_score=None, booster=None, callbacks=None,\n",
       "             colsample_bylevel=None, colsample_bynode=None,\n",
       "             colsample_bytree=None, early_stopping_rounds=None,\n",
       "             enable_categorical=False, eval_metric=None, feature_types=None,\n",
       "             gamma=None, gpu_id=None, grow_policy=None, importance_type=None,\n",
       "             interaction_constraints=None, learning_rate=None, max_bin=None,\n",
       "             max_cat_threshold=None, max_cat_to_onehot=None,\n",
       "             max_delta_step=None, max_depth=None, max_leaves=None,\n",
       "             min_child_weight=None, missing=nan, monotone_constraints=None,\n",
       "             n_estimators=100, n_jobs=None, num_parallel_tree=None,\n",
       "             predictor=None, random_state=None, ...)</pre></div></div></div></div></div>"
      ],
      "text/plain": [
       "XGBRegressor(base_score=None, booster=None, callbacks=None,\n",
       "             colsample_bylevel=None, colsample_bynode=None,\n",
       "             colsample_bytree=None, early_stopping_rounds=None,\n",
       "             enable_categorical=False, eval_metric=None, feature_types=None,\n",
       "             gamma=None, gpu_id=None, grow_policy=None, importance_type=None,\n",
       "             interaction_constraints=None, learning_rate=None, max_bin=None,\n",
       "             max_cat_threshold=None, max_cat_to_onehot=None,\n",
       "             max_delta_step=None, max_depth=None, max_leaves=None,\n",
       "             min_child_weight=None, missing=nan, monotone_constraints=None,\n",
       "             n_estimators=100, n_jobs=None, num_parallel_tree=None,\n",
       "             predictor=None, random_state=None, ...)"
      ]
     },
     "execution_count": 8,
     "metadata": {},
     "output_type": "execute_result"
    }
   ],
   "source": [
    "xgb_reg = xgb.XGBRegressor()\n",
    "xgb_reg.fit(X, y)"
   ]
  },
  {
   "cell_type": "markdown",
   "id": "17ca5e32",
   "metadata": {},
   "source": [
    "<h3>Using random forest</h3>"
   ]
  },
  {
   "cell_type": "code",
   "execution_count": 9,
   "id": "bac3a7d9",
   "metadata": {
    "ExecuteTime": {
     "end_time": "2023-07-26T08:54:34.719374Z",
     "start_time": "2023-07-26T08:54:34.515644Z"
    }
   },
   "outputs": [
    {
     "data": {
      "text/html": [
       "<style>#sk-container-id-2 {color: black;background-color: white;}#sk-container-id-2 pre{padding: 0;}#sk-container-id-2 div.sk-toggleable {background-color: white;}#sk-container-id-2 label.sk-toggleable__label {cursor: pointer;display: block;width: 100%;margin-bottom: 0;padding: 0.3em;box-sizing: border-box;text-align: center;}#sk-container-id-2 label.sk-toggleable__label-arrow:before {content: \"▸\";float: left;margin-right: 0.25em;color: #696969;}#sk-container-id-2 label.sk-toggleable__label-arrow:hover:before {color: black;}#sk-container-id-2 div.sk-estimator:hover label.sk-toggleable__label-arrow:before {color: black;}#sk-container-id-2 div.sk-toggleable__content {max-height: 0;max-width: 0;overflow: hidden;text-align: left;background-color: #f0f8ff;}#sk-container-id-2 div.sk-toggleable__content pre {margin: 0.2em;color: black;border-radius: 0.25em;background-color: #f0f8ff;}#sk-container-id-2 input.sk-toggleable__control:checked~div.sk-toggleable__content {max-height: 200px;max-width: 100%;overflow: auto;}#sk-container-id-2 input.sk-toggleable__control:checked~label.sk-toggleable__label-arrow:before {content: \"▾\";}#sk-container-id-2 div.sk-estimator input.sk-toggleable__control:checked~label.sk-toggleable__label {background-color: #d4ebff;}#sk-container-id-2 div.sk-label input.sk-toggleable__control:checked~label.sk-toggleable__label {background-color: #d4ebff;}#sk-container-id-2 input.sk-hidden--visually {border: 0;clip: rect(1px 1px 1px 1px);clip: rect(1px, 1px, 1px, 1px);height: 1px;margin: -1px;overflow: hidden;padding: 0;position: absolute;width: 1px;}#sk-container-id-2 div.sk-estimator {font-family: monospace;background-color: #f0f8ff;border: 1px dotted black;border-radius: 0.25em;box-sizing: border-box;margin-bottom: 0.5em;}#sk-container-id-2 div.sk-estimator:hover {background-color: #d4ebff;}#sk-container-id-2 div.sk-parallel-item::after {content: \"\";width: 100%;border-bottom: 1px solid gray;flex-grow: 1;}#sk-container-id-2 div.sk-label:hover label.sk-toggleable__label {background-color: #d4ebff;}#sk-container-id-2 div.sk-serial::before {content: \"\";position: absolute;border-left: 1px solid gray;box-sizing: border-box;top: 0;bottom: 0;left: 50%;z-index: 0;}#sk-container-id-2 div.sk-serial {display: flex;flex-direction: column;align-items: center;background-color: white;padding-right: 0.2em;padding-left: 0.2em;position: relative;}#sk-container-id-2 div.sk-item {position: relative;z-index: 1;}#sk-container-id-2 div.sk-parallel {display: flex;align-items: stretch;justify-content: center;background-color: white;position: relative;}#sk-container-id-2 div.sk-item::before, #sk-container-id-2 div.sk-parallel-item::before {content: \"\";position: absolute;border-left: 1px solid gray;box-sizing: border-box;top: 0;bottom: 0;left: 50%;z-index: -1;}#sk-container-id-2 div.sk-parallel-item {display: flex;flex-direction: column;z-index: 1;position: relative;background-color: white;}#sk-container-id-2 div.sk-parallel-item:first-child::after {align-self: flex-end;width: 50%;}#sk-container-id-2 div.sk-parallel-item:last-child::after {align-self: flex-start;width: 50%;}#sk-container-id-2 div.sk-parallel-item:only-child::after {width: 0;}#sk-container-id-2 div.sk-dashed-wrapped {border: 1px dashed gray;margin: 0 0.4em 0.5em 0.4em;box-sizing: border-box;padding-bottom: 0.4em;background-color: white;}#sk-container-id-2 div.sk-label label {font-family: monospace;font-weight: bold;display: inline-block;line-height: 1.2em;}#sk-container-id-2 div.sk-label-container {text-align: center;}#sk-container-id-2 div.sk-container {/* jupyter's `normalize.less` sets `[hidden] { display: none; }` but bootstrap.min.css set `[hidden] { display: none !important; }` so we also need the `!important` here to be able to override the default hidden behavior on the sphinx rendered scikit-learn.org. See: https://github.com/scikit-learn/scikit-learn/issues/21755 */display: inline-block !important;position: relative;}#sk-container-id-2 div.sk-text-repr-fallback {display: none;}</style><div id=\"sk-container-id-2\" class=\"sk-top-container\"><div class=\"sk-text-repr-fallback\"><pre>RandomForestRegressor()</pre><b>In a Jupyter environment, please rerun this cell to show the HTML representation or trust the notebook. <br />On GitHub, the HTML representation is unable to render, please try loading this page with nbviewer.org.</b></div><div class=\"sk-container\" hidden><div class=\"sk-item\"><div class=\"sk-estimator sk-toggleable\"><input class=\"sk-toggleable__control sk-hidden--visually\" id=\"sk-estimator-id-2\" type=\"checkbox\" checked><label for=\"sk-estimator-id-2\" class=\"sk-toggleable__label sk-toggleable__label-arrow\">RandomForestRegressor</label><div class=\"sk-toggleable__content\"><pre>RandomForestRegressor()</pre></div></div></div></div></div>"
      ],
      "text/plain": [
       "RandomForestRegressor()"
      ]
     },
     "execution_count": 9,
     "metadata": {},
     "output_type": "execute_result"
    }
   ],
   "source": [
    "rf_reg = RandomForestRegressor()\n",
    "rf_reg.fit(X, y)"
   ]
  },
  {
   "cell_type": "markdown",
   "id": "39f38ea8",
   "metadata": {},
   "source": [
    "<h3>Ploting important features</h3>"
   ]
  },
  {
   "cell_type": "code",
   "execution_count": 11,
   "id": "29a04250",
   "metadata": {
    "ExecuteTime": {
     "end_time": "2023-07-26T08:56:58.711002Z",
     "start_time": "2023-07-26T08:56:58.228168Z"
    }
   },
   "outputs": [
    {
     "name": "stdout",
     "output_type": "stream",
     "text": [
      "[0.21815023 0.03444811 0.03559028 0.04628973 0.02775393 0.04132874\n",
      " 0.06207594 0.01870531 0.0200176  0.01929682 0.03921222 0.02494417\n",
      " 0.01434374 0.02315118 0.07024961 0.01874654 0.1839707  0.10172521]\n"
     ]
    },
    {
     "data": {
      "image/png": "[encoded data removed]",
      "text/plain": [
       "<Figure size 640x480 with 1 Axes>"
      ]
     },
     "metadata": {},
     "output_type": "display_data"
    }
   ],
   "source": [
    "xgb.plot_importance(xgb_reg)\n",
    "print(xgb_reg.feature_importances_)"
   ]
  },
  {
   "cell_type": "code",
   "execution_count": 17,
   "id": "68793893",
   "metadata": {
    "ExecuteTime": {
     "end_time": "2023-07-26T09:05:39.313353Z",
     "start_time": "2023-07-26T09:05:39.007893Z"
    }
   },
   "outputs": [
    {
     "data": {
      "image/png": "[encoded data removed]",
      "text/plain": [
       "<Figure size 1000x500 with 1 Axes>"
      ]
     },
     "metadata": {},
     "output_type": "display_data"
    }
   ],
   "source": [
    "import matplotlib.pyplot as plt\n",
    "\n",
    "# Get feature importances from Random Forest model\n",
    "importances = rf_reg.feature_importances_\n",
    "\n",
    "# Sort feature importances in descending order\n",
    "indices = np.argsort(importances)[::-1]\n",
    "\n",
    "# Create plot\n",
    "plt.figure(figsize=(10,5))\n",
    "plt.title(\"Feature Importances for Random Forest Model\")\n",
    "plt.bar(range(X.shape[1]), importances[indices])\n",
    "plt.xticks(range(X.shape[1]), X.columns[indices], rotation=90)\n",
    "plt.show()"
   ]
  },
  {
   "cell_type": "markdown",
   "id": "edbc17b0",
   "metadata": {},
   "source": [
    "<h3>Models performance measure using r squared value</h3>"
   ]
  },
  {
   "cell_type": "code",
   "execution_count": 18,
   "id": "c23ad483",
   "metadata": {
    "ExecuteTime": {
     "end_time": "2023-07-26T09:10:05.005711Z",
     "start_time": "2023-07-26T09:10:04.971830Z"
    }
   },
   "outputs": [
    {
     "name": "stdout",
     "output_type": "stream",
     "text": [
      "XGBoost Model R-squared: 0.5898783278869961\n",
      "XGBoost Model Adjusted R-squared: 0.5715602383137106\n",
      "\n",
      "Random Forest Model R-squared: 0.5723303630172863\n",
      "Random Forest Model Adjusted R-squared: 0.5532284933753786\n"
     ]
    }
   ],
   "source": [
    "\n",
    "# Calculate R-squared and adjusted R-squared for XGBoost model\n",
    "y_pred_xgb = xgb_reg.predict(X)\n",
    "r2_xgb = r2_score(y, y_pred_xgb)\n",
    "adj_r2_xgb = 1 - (1 - r2_xgb) * (len(y) - 1) / (len(y) - X.shape[1] - 1)\n",
    "\n",
    "# Print R-squared and adjusted R-squared for XGBoost model\n",
    "print(\"XGBoost Model R-squared:\", r2_xgb)\n",
    "print(\"XGBoost Model Adjusted R-squared:\", adj_r2_xgb)\n",
    "\n",
    "# Calculate R-squared and adjusted R-squared for Random Forest model\n",
    "y_pred_rf = rf_reg.predict(X)\n",
    "r2_rf = r2_score(y, y_pred_rf)\n",
    "adj_r2_rf = 1 - (1 - r2_rf) * (len(y) - 1) / (len(y) - X.shape[1] - 1)\n",
    "\n",
    "# Print R-squared and adjusted R-squared for Random Forest model\n",
    "print(\"\\nRandom Forest Model R-squared:\", r2_rf)\n",
    "print(\"Random Forest Model Adjusted R-squared:\", adj_r2_rf)"
   ]
  },
  {
   "cell_type": "markdown",
   "id": "3007533e",
   "metadata": {},
   "source": [
    "<h3>Calculating loss </h3>"
   ]
  },
  {
   "cell_type": "code",
   "execution_count": 23,
   "id": "f1868bb8",
   "metadata": {
    "ExecuteTime": {
     "end_time": "2023-07-26T09:52:23.406751Z",
     "start_time": "2023-07-26T09:52:23.394243Z"
    }
   },
   "outputs": [
    {
     "name": "stdout",
     "output_type": "stream",
     "text": [
      "mean_absolute_error or L1 Loss: 140.44103696560973\n",
      "mean_squared_error or L2 Loss: 44819.56368961239\n"
     ]
    }
   ],
   "source": [
    "# Calculate MAE and MSE\n",
    "mae = mean_absolute_error(y, y_pred_xgb)\n",
    "mse = mean_squared_error(y, y_pred_xgb)\n",
    "\n",
    "# Print the results\n",
    "print(\"mean_absolute_error or L1 Loss:\", mae)\n",
    "print(\"mean_squared_error or L2 Loss:\", mse)"
   ]
  },
  {
   "cell_type": "code",
   "execution_count": 24,
   "id": "4113dbba",
   "metadata": {
    "ExecuteTime": {
     "end_time": "2023-07-26T09:54:06.927097Z",
     "start_time": "2023-07-26T09:54:06.917132Z"
    }
   },
   "outputs": [
    {
     "data": {
      "text/plain": [
       "array([ 932.3205 ,  696.73425,  939.97797,  964.5415 , 1221.7089 ,\n",
       "        964.5415 , 1221.7089 , 1481.9567 ,  606.1578 , 1138.5813 ,\n",
       "       1014.54034, 1135.9907 ,  958.11334,  608.77014, 1135.9907 ,\n",
       "        255.17598, 1135.9907 ,  134.65178,  729.79486,  965.5181 ,\n",
       "        701.15076,  860.5435 ,  900.4841 ,  712.1706 ,  119.06901,\n",
       "        965.5181 , 1122.6085 ,  964.5867 , 1191.0404 ,  964.5867 ,\n",
       "        540.35706, 1287.3016 , 1191.0404 ,  927.3315 ,  964.5867 ,\n",
       "        540.35706, 1287.3016 , 1191.0404 ,  964.5867 , 1143.1953 ,\n",
       "       1143.2433 ,  781.6335 ,  808.72974, 1143.1953 ,  808.72974,\n",
       "       1143.1953 , 1143.2433 ,  781.6335 ,  689.68695,  808.72974,\n",
       "       1133.6366 , 1143.1953 , 1968.2145 ,  785.78577, 1077.1157 ,\n",
       "        777.79944,  777.79944,  839.02856, 1079.4897 ,  777.79944,\n",
       "        839.02856, 1079.4897 , 1077.1157 , 1166.5775 ,  597.28625,\n",
       "       1166.5775 ,  597.28625,  725.3923 ,  597.28625,  124.58134,\n",
       "        687.5031 , 1282.5408 , 1282.5408 ,  750.6779 , 1134.9203 ,\n",
       "       1282.5408 , 1148.2054 , 1163.3434 , 1319.3346 , 1382.3688 ,\n",
       "       1537.9895 , 1382.3688 , 1537.9895 , 2749.463  , 1382.3688 ,\n",
       "       1537.9895 , 1163.3434 , 1319.3346 ,  996.3856 , 1124.329  ,\n",
       "        613.7999 , 1070.7642 , 1124.9982 ,  996.3856 , 1070.7642 ,\n",
       "       1124.9982 ,  996.3856 ,  894.9685 , 1070.7642 , 1124.9982 ,\n",
       "        996.3856 ,  137.11761,  894.9685 , 1070.7642 ,  996.3856 ,\n",
       "        939.97797, 1056.3002 , 1115.2959 , 1056.3002 ,  696.73425,\n",
       "        712.26184,  705.433  , 1056.3002 , 1221.7089 , 1481.9567 ,\n",
       "        943.0681 , 1221.7089 ,  964.5415 ,  937.9186 , 1138.5813 ,\n",
       "        662.47736,  606.1578 ,  937.9186 , 1138.5813 ,  937.9186 ,\n",
       "       1138.5813 , 1014.54034,  662.47736,  937.9186 , 1135.9907 ,\n",
       "       1135.9907 ,  958.11334,  608.77014,  993.71515,  776.4858 ,\n",
       "        860.5435 ,  900.80835, 1081.686  ,  900.80835, 1024.2842 ,\n",
       "       1024.2842 ,  894.3981 , 1024.2842 , 1147.0557 , 1076.274  ,\n",
       "       1509.9684 ,  765.8115 ,  636.10223,  671.42975,  900.80835,\n",
       "       1081.686  , 1016.43207,  636.10223,  671.42975,  765.8115 ,\n",
       "        811.10834,  931.94525,  716.8079 ,  780.902  , 1162.9858 ,\n",
       "        765.8115 ,  636.10223, 1016.43207,  716.8079 ,  811.10834,\n",
       "        931.94525, 1086.7369 ,  780.902  ,  894.3981 ,  851.9454 ,\n",
       "        910.9253 ,  910.9253 ,  579.81866,  770.6612 ,  910.9253 ,\n",
       "       1162.9858 , 1016.8482 ,  770.6612 ,  584.20807,  725.1942 ,\n",
       "        858.50653,  802.6894 ,  978.798  , 1062.4591 ,  147.42117,\n",
       "        593.9055 ,  978.798  ,  846.0125 , 1076.274  , 1509.9684 ,\n",
       "        686.6928 ,  674.3829 ,  883.6812 ,  811.10834, 1086.7369 ,\n",
       "       1038.3358 ,  716.8079 ,  894.3981 ,  811.38513,  780.902  ,\n",
       "        851.9454 ,  770.6612 ,  132.61476, 1162.9858 ,  579.81866,\n",
       "       1162.9858 ,  794.59814,  770.6612 ,  910.9253 ,  895.33417,\n",
       "        716.8079 ,  584.20807,  725.1942 ,  855.4994 , 1147.0557 ,\n",
       "        656.83997,  700.96655, 1147.0557 , 1147.0557 ,  919.4196 ,\n",
       "       1110.6991 ,  621.74854, 1159.7761 ,  883.6812 ,  883.6812 ,\n",
       "        674.3829 ,  900.80835,  996.5139 ,  780.902  ,  579.81866,\n",
       "        671.42975,  900.80835, 1086.7369 ,  794.59814,  858.50653,\n",
       "        978.798  ,  700.96655,  725.23865,  700.96655,  665.20844,\n",
       "       1084.754  , 1159.7761 ,  700.37964, 1084.754  ,  636.02875,\n",
       "        877.38464, 1239.6476 , 1162.9858 , 1081.686  , 1016.43207,\n",
       "        636.10223, 1081.686  ,  636.10223,  931.94525,  716.8079 ,\n",
       "        931.94525, 1038.3358 ,  931.94525,  894.3981 ,  780.902  ,\n",
       "        894.3981 ,  811.38513,  811.38513,  780.902  ,  770.6612 ,\n",
       "        938.26196,  802.6894 ,  584.20807,  722.8153 ,  938.26196,\n",
       "        802.6894 ,  855.4994 ,  978.798  ,  855.4994 , 1045.1349 ,\n",
       "        665.20844,  919.4196 ,  846.0125 ,  700.37964,  700.37964,\n",
       "       1084.754  , 1076.274  ,  895.33417, 1029.7202 ,  674.3829 ,\n",
       "       1029.7202 , 1671.4741 ,  883.6812 , 1748.9144 , 1023.34503,\n",
       "        790.29865, 1418.9089 , 1418.9089 , 1418.9089 , 1023.34503,\n",
       "        765.8115 ,  671.42975,  900.80835,  931.94525, 1038.3358 ,\n",
       "        811.10834, 1024.2842 ,  811.38513,  780.902  , 1016.8482 ,\n",
       "        216.18561,  794.59814,  579.81866,  770.6612 ,  725.1942 ,\n",
       "        722.8153 , 1038.3358 ,  656.83997,  799.2019 ,  846.0125 ,\n",
       "       1159.7761 ,  834.0369 ,  716.8079 ,  811.10834,  811.38513,\n",
       "        584.20807,  765.8115 ,  811.38513,  927.36646,  997.12317,\n",
       "        895.33417,  897.3599 ,  671.42975,  671.42975,  811.10834,\n",
       "        716.8079 ,  811.10834,  851.9454 ,  794.59814,  579.81866,\n",
       "        722.8153 ,  876.5273 , 1062.4591 ,  946.03107, 1110.6991 ,\n",
       "        621.74854,  621.74854, 1110.6991 ,  846.0125 , 1076.274  ,\n",
       "       1159.7761 ,  700.37964, 1084.754  ,  686.6928 ,  877.38464,\n",
       "       1029.7202 ,  834.0369 ,  636.10223, 1016.43207,  811.38513,\n",
       "        794.59814,  770.6612 ,  686.6928 ,  765.8115 , 1086.7369 ,\n",
       "        938.26196,  636.10223,  780.902  ,  671.42975,  765.8115 ,\n",
       "       1081.686  ,  991.16077,  811.10834,  780.902  ,  794.59814,\n",
       "        910.9253 ,  802.6894 ,  876.5273 ,  946.03107,  877.38464,\n",
       "        897.3599 ,  877.38464,  997.12317,  790.29865,  716.8079 ,\n",
       "       1038.3358 ,  996.5139 ,  910.9253 ,  858.50653,  971.70355,\n",
       "       1038.3358 ,  851.9454 ,  811.38513,  851.9454 ,  851.9454 ,\n",
       "        938.26196, 1110.6991 , 1239.6476 ,  991.16077,  931.94525,\n",
       "        780.902  ,  996.5139 ,  851.9454 ,  579.81866, 1084.754  ,\n",
       "        997.12317,  834.0369 ,  991.16077, 1016.8482 , 1016.43207,\n",
       "        770.6612 ,  722.8153 ,  897.3599 , 1016.43207,  927.36646,\n",
       "        996.5139 ,  996.5139 , 1016.8482 ,  991.16077,  722.8153 ,\n",
       "        876.5273 , 1016.43207, 1016.43207,  996.5139 ,  991.16077,\n",
       "        579.81866, 1016.43207], dtype=float32)"
      ]
     },
     "execution_count": 24,
     "metadata": {},
     "output_type": "execute_result"
    }
   ],
   "source": [
    "y_pred_xgb"
   ]
  },
  {
   "cell_type": "code",
   "execution_count": 26,
   "id": "5c570fa7",
   "metadata": {
    "ExecuteTime": {
     "end_time": "2023-07-26T10:34:05.066291Z",
     "start_time": "2023-07-26T10:34:05.054986Z"
    }
   },
   "outputs": [
    {
     "data": {
      "text/plain": [
       "210"
      ]
     },
     "execution_count": 26,
     "metadata": {},
     "output_type": "execute_result"
    }
   ],
   "source": [
    "data['incident_hours'].isnull().sum()"
   ]
  },
  {
   "cell_type": "code",
   "execution_count": 29,
   "id": "67144476",
   "metadata": {
    "ExecuteTime": {
     "end_time": "2023-07-26T11:32:56.408626Z",
     "start_time": "2023-07-26T11:32:56.388765Z"
    }
   },
   "outputs": [
    {
     "data": {
      "text/plain": [
       "1.00      28\n",
       "2.00      26\n",
       "3.00      19\n",
       "5.00      14\n",
       "4.00      13\n",
       "          ..\n",
       "20.00      1\n",
       "77.00      1\n",
       "65.00      1\n",
       "21.00      1\n",
       "363.00     1\n",
       "Name: incident_hours, Length: 65, dtype: int64"
      ]
     },
     "execution_count": 29,
     "metadata": {},
     "output_type": "execute_result"
    }
   ],
   "source": [
    "data['incident_hours'].value_counts()"
   ]
  },
  {
   "cell_type": "code",
   "execution_count": 28,
   "id": "655b7b6a",
   "metadata": {
    "ExecuteTime": {
     "end_time": "2023-07-26T10:37:02.781289Z",
     "start_time": "2023-07-26T10:37:02.754648Z"
    }
   },
   "outputs": [
    {
     "data": {
      "text/plain": [
       "<bound method NDFrame._add_numeric_operations.<locals>.mean of 0        NaN\n",
       "1        NaN\n",
       "2        NaN\n",
       "3        NaN\n",
       "4        NaN\n",
       "       ...  \n",
       "417   198.00\n",
       "418   185.00\n",
       "419   175.00\n",
       "420   294.00\n",
       "421   363.00\n",
       "Name: incident_hours, Length: 422, dtype: float64>"
      ]
     },
     "execution_count": 28,
     "metadata": {},
     "output_type": "execute_result"
    }
   ],
   "source": [
    "data['incident_hours'].mean"
   ]
  },
  {
   "cell_type": "code",
   "execution_count": 30,
   "id": "39f7b426",
   "metadata": {
    "ExecuteTime": {
     "end_time": "2023-07-26T11:35:49.742139Z",
     "start_time": "2023-07-26T11:35:49.732915Z"
    }
   },
   "outputs": [
    {
     "data": {
      "text/plain": [
       "0      0\n",
       "1      0\n",
       "2      0\n",
       "3      0\n",
       "4      0\n",
       "      ..\n",
       "417    1\n",
       "418    1\n",
       "419    1\n",
       "420    1\n",
       "421    1\n",
       "Name: Incident_1, Length: 422, dtype: int64"
      ]
     },
     "execution_count": 30,
     "metadata": {},
     "output_type": "execute_result"
    }
   ],
   "source": [
    "data['Incident_1']"
   ]
  },
  {
   "cell_type": "code",
   "execution_count": 31,
   "id": "2eb15847",
   "metadata": {
    "ExecuteTime": {
     "end_time": "2023-07-26T11:40:19.737974Z",
     "start_time": "2023-07-26T11:40:19.715273Z"
    }
   },
   "outputs": [],
   "source": [
    "\n",
    "\n",
    "# Calculate mean, median, and mode of the 'incident_hours' column\n",
    "mean_val = data['incident_hours'].mean()\n",
    "median_val = data['incident_hours'].median()\n",
    "mode_val = data['incident_hours'].mode().iloc[0]\n",
    "\n",
    "# Fill missing values using the mean\n",
    "data['incident_hours_mean'] = data['incident_hours'].fillna(mean_val)\n",
    "\n",
    "# Fill missing values using the median\n",
    "data['incident_hours_median'] = data['incident_hours'].fillna(median_val)\n",
    "\n",
    "# Fill missing values using the mode\n",
    "data['incident_hours_mode'] = data['incident_hours'].fillna(mode_val)"
   ]
  },
  {
   "cell_type": "code",
   "execution_count": 47,
   "id": "4b66f96d",
   "metadata": {
    "ExecuteTime": {
     "end_time": "2023-07-26T11:48:01.885453Z",
     "start_time": "2023-07-26T11:48:01.877977Z"
    }
   },
   "outputs": [
    {
     "data": {
      "text/plain": [
       "411   145.00\n",
       "412   144.00\n",
       "413    91.00\n",
       "414   140.00\n",
       "415   139.00\n",
       "416   179.00\n",
       "417   198.00\n",
       "418   185.00\n",
       "419   175.00\n",
       "420   294.00\n",
       "421   363.00\n",
       "Name: incident_hours_mean, dtype: float64"
      ]
     },
     "execution_count": 47,
     "metadata": {},
     "output_type": "execute_result"
    }
   ],
   "source": [
    "data['incident_hours_mean'].tail(11)\n",
    "\n"
   ]
  },
  {
   "cell_type": "code",
   "execution_count": 46,
   "id": "e0cf5700",
   "metadata": {
    "ExecuteTime": {
     "end_time": "2023-07-26T11:47:37.705808Z",
     "start_time": "2023-07-26T11:47:37.697084Z"
    }
   },
   "outputs": [
    {
     "data": {
      "text/plain": [
       "412   144.00\n",
       "413    91.00\n",
       "414   140.00\n",
       "415   139.00\n",
       "416   179.00\n",
       "417   198.00\n",
       "418   185.00\n",
       "419   175.00\n",
       "420   294.00\n",
       "421   363.00\n",
       "Name: incident_hours_median, dtype: float64"
      ]
     },
     "execution_count": 46,
     "metadata": {},
     "output_type": "execute_result"
    }
   ],
   "source": [
    "data['incident_hours_median'].tail(10)"
   ]
  },
  {
   "cell_type": "code",
   "execution_count": 40,
   "id": "c3c8d1f3",
   "metadata": {
    "ExecuteTime": {
     "end_time": "2023-07-26T11:44:40.449135Z",
     "start_time": "2023-07-26T11:44:40.440268Z"
    }
   },
   "outputs": [
    {
     "data": {
      "text/plain": [
       "412   144.00\n",
       "413    91.00\n",
       "414   140.00\n",
       "415   139.00\n",
       "416   179.00\n",
       "417   198.00\n",
       "418   185.00\n",
       "419   175.00\n",
       "420   294.00\n",
       "421   363.00\n",
       "Name: incident_hours_mode, dtype: float64"
      ]
     },
     "execution_count": 40,
     "metadata": {},
     "output_type": "execute_result"
    }
   ],
   "source": [
    "data['incident_hours_mode'].tail(10)"
   ]
  },
  {
   "cell_type": "code",
   "execution_count": 48,
   "id": "17713da9",
   "metadata": {
    "ExecuteTime": {
     "end_time": "2023-07-26T11:48:51.563666Z",
     "start_time": "2023-07-26T11:48:51.552333Z"
    }
   },
   "outputs": [
    {
     "data": {
      "text/plain": [
       "412   144.00\n",
       "413    91.00\n",
       "414   140.00\n",
       "415   139.00\n",
       "416   179.00\n",
       "417   198.00\n",
       "418   185.00\n",
       "419   175.00\n",
       "420   294.00\n",
       "421   363.00\n",
       "Name: incident_hours, dtype: float64"
      ]
     },
     "execution_count": 48,
     "metadata": {},
     "output_type": "execute_result"
    }
   ],
   "source": [
    "data['incident_hours'].tail(10)"
   ]
  },
  {
   "cell_type": "code",
   "execution_count": 50,
   "id": "05fb9fa3",
   "metadata": {
    "ExecuteTime": {
     "end_time": "2023-07-26T11:58:06.423687Z",
     "start_time": "2023-07-26T11:58:06.411213Z"
    }
   },
   "outputs": [
    {
     "data": {
      "text/plain": [
       "411    8.00\n",
       "412    8.00\n",
       "413    8.00\n",
       "414    9.00\n",
       "415    9.00\n",
       "416   10.00\n",
       "417   12.00\n",
       "418   12.00\n",
       "419   13.00\n",
       "420   13.00\n",
       "421   18.00\n",
       "Name: incident_days, dtype: float64"
      ]
     },
     "execution_count": 50,
     "metadata": {},
     "output_type": "execute_result"
    }
   ],
   "source": [
    "\n",
    "\n",
    "data['incident_hours'].tail(11)\n",
    "data['incident_days'].tail(11)"
   ]
  },
  {
   "cell_type": "code",
   "execution_count": 51,
   "id": "92893dff",
   "metadata": {
    "ExecuteTime": {
     "end_time": "2023-07-26T11:59:50.702418Z",
     "start_time": "2023-07-26T11:59:50.690513Z"
    }
   },
   "outputs": [
    {
     "data": {
      "text/plain": [
       "count   212.00\n",
       "mean      2.48\n",
       "std       2.50\n",
       "min       1.00\n",
       "25%       1.00\n",
       "50%       2.00\n",
       "75%       3.00\n",
       "max      18.00\n",
       "Name: incident_days, dtype: float64"
      ]
     },
     "execution_count": 51,
     "metadata": {},
     "output_type": "execute_result"
    }
   ],
   "source": [
    "data['incident_days'].describe()"
   ]
  },
  {
   "cell_type": "code",
   "execution_count": null,
   "id": "205b01d2",
   "metadata": {},
   "outputs": [],
   "source": []
  }
 ],
 "metadata": {
  "kernelspec": {
   "display_name": "Python 3 (ipykernel)",
   "language": "python",
   "name": "python3"
  },
  "language_info": {
   "codemirror_mode": {
    "name": "ipython",
    "version": 3
   },
   "file_extension": ".py",
   "mimetype": "text/x-python",
   "name": "python",
   "nbconvert_exporter": "python",
   "pygments_lexer": "ipython3",
   "version": "3.11.3"
  },
  "nbTranslate": {
   "displayLangs": [
    "*"
   ],
   "hotkey": "alt-t",
   "langInMainMenu": true,
   "sourceLang": "en",
   "targetLang": "fr",
   "useGoogleTranslate": true
  },
  "varInspector": {
   "cols": {
    "lenName": 16,
    "lenType": 16,
    "lenVar": 40
   },
   "kernels_config": {
    "python": {
     "delete_cmd_postfix": "",
     "delete_cmd_prefix": "del ",
     "library": "var_list.py",
     "varRefreshCmd": "print(var_dic_list())"
    },
    "r": {
     "delete_cmd_postfix": ") ",
     "delete_cmd_prefix": "rm(",
     "library": "var_list.r",
     "varRefreshCmd": "cat(var_dic_list()) "
    }
   },
   "types_to_exclude": [
    "module",
    "function",
    "builtin_function_or_method",
    "instance",
    "_Feature"
   ],
   "window_display": false
  }
 },
 "nbformat": 4,
 "nbformat_minor": 5
}
